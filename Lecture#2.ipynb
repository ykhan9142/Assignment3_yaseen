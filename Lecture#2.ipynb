{
 "cells": [
  {
   "cell_type": "code",
   "execution_count": 1,
   "metadata": {},
   "outputs": [
    {
     "name": "stdout",
     "output_type": "stream",
     "text": [
      "Enter your name: Yaseen\n",
      "Enter meter number: AL510394\n",
      "Enter previous reading: 76899\n",
      "Enter present reading: 89000\n"
     ]
    }
   ],
   "source": [
    "name = input('Enter your name: ')\n",
    "meter_no = input ('Enter meter number: ')\n",
    "prev_read = int(input(\"Enter previous reading: \"))\n",
    "pres_read = int(input(\"Enter present reading: \"))"
   ]
  },
  {
   "cell_type": "code",
   "execution_count": 10,
   "metadata": {},
   "outputs": [
    {
     "name": "stdout",
     "output_type": "stream",
     "text": [
      "Total Number of Units:  12101\n",
      "Total Amount to be paid: 121010\n"
     ]
    }
   ],
   "source": [
    "unit = pres_read - prev_read\n",
    "print(\"Total Number of Units: \",format(unit))\n",
    "print(\"Total Amount to be paid:\",format(unit*10))"
   ]
  },
  {
   "cell_type": "code",
   "execution_count": 13,
   "metadata": {},
   "outputs": [],
   "source": [
    "name = \"Yaseen- 123!\" #This is a string"
   ]
  },
  {
   "cell_type": "code",
   "execution_count": 12,
   "metadata": {},
   "outputs": [],
   "source": [
    "num = 3600 #This is an integer"
   ]
  },
  {
   "cell_type": "code",
   "execution_count": 15,
   "metadata": {},
   "outputs": [],
   "source": [
    "num1 = 3.6 #This is a float"
   ]
  },
  {
   "cell_type": "code",
   "execution_count": 17,
   "metadata": {},
   "outputs": [],
   "source": [
    "#if this code is in c\n",
    "\n",
    "#str name = \"yaseen-123!\"\n",
    "#int num = 3600\n",
    "#float num1 = 3.6"
   ]
  },
  {
   "cell_type": "code",
   "execution_count": 19,
   "metadata": {},
   "outputs": [
    {
     "name": "stdout",
     "output_type": "stream",
     "text": [
      "<class 'str'>\n",
      "<class 'int'>\n",
      "<class 'float'>\n"
     ]
    }
   ],
   "source": [
    "print(type(name))\n",
    "print(type(num))\n",
    "print(type(num1))"
   ]
  },
  {
   "cell_type": "code",
   "execution_count": 21,
   "metadata": {},
   "outputs": [
    {
     "name": "stdout",
     "output_type": "stream",
     "text": [
      "Enter number1: 1000\n",
      "Enter Number2: 500\n"
     ]
    }
   ],
   "source": [
    "num1 = int(input(\"Enter number1: \"))\n",
    "num2 = int(input(\"Enter Number2: \"))\n",
    "add = num1+num2\n",
    "sub = num1 - num2\n",
    "mul = num1 * num2\n",
    "div = num1 /num2"
   ]
  },
  {
   "cell_type": "code",
   "execution_count": 24,
   "metadata": {},
   "outputs": [
    {
     "name": "stdout",
     "output_type": "stream",
     "text": [
      "sum of numbers 1500\n",
      "sub of numbers 500\n",
      "mul of numbers 500000\n",
      "div of numbers 2.0\n"
     ]
    }
   ],
   "source": [
    "print(\"sum of numbers\",format(add))\n",
    "print(\"sub of numbers\",format(sub))\n",
    "print(\"mul of numbers\",format(mul))\n",
    "print(\"div of numbers\",format(div))"
   ]
  },
  {
   "cell_type": "code",
   "execution_count": 48,
   "metadata": {},
   "outputs": [
    {
     "name": "stdout",
     "output_type": "stream",
     "text": [
      "Enter Your Name: faiza\n",
      "FAIZA\n"
     ]
    }
   ],
   "source": [
    "#Writing a code to check if username is \"Ahmed\"\n",
    "\n",
    "name1 = input(\"Enter Your Name: \")\n",
    "name = name1.upper()\n",
    "print(name)"
   ]
  },
  {
   "cell_type": "code",
   "execution_count": null,
   "metadata": {},
   "outputs": [],
   "source": [
    "if name == \"Ahmed\":\n",
    "    print(\"Your name is Ahmed\")\n",
    "elif name == \"Faiza\":\n",
    "    print(\"yourname is FAIZA\")\n",
    "elif name == \"Jahanzaib\":\n",
    "    print (\"Your name is jahanzaib\")\n",
    "else:\n",
    "    print(\"your name in not Known\")"
   ]
  },
  {
   "cell_type": "code",
   "execution_count": null,
   "metadata": {
    "scrolled": true
   },
   "outputs": [],
   "source": [
    "operat = input(\"Enter Operator\")"
   ]
  },
  {
   "cell_type": "code",
   "execution_count": 33,
   "metadata": {},
   "outputs": [
    {
     "name": "stdout",
     "output_type": "stream",
     "text": [
      "Enter the nameSaleem\n"
     ]
    }
   ],
   "source": [
    "name_name = input (\"Enter the name\")"
   ]
  },
  {
   "cell_type": "code",
   "execution_count": 39,
   "metadata": {},
   "outputs": [
    {
     "name": "stdout",
     "output_type": "stream",
     "text": [
      "meelaS\n"
     ]
    }
   ],
   "source": [
    "print (name_name[::-1])"
   ]
  },
  {
   "cell_type": "code",
   "execution_count": null,
   "metadata": {},
   "outputs": [],
   "source": [
    "name_1 = input(\"Enter Your Name: \")\n",
    "name_2 = name_1.upper()\n",
    "\n",
    "if name == \"Ahmed\":\n",
    "    print(\"Your name is Ahmed\")\n",
    "elif name == \"Faiza\":\n",
    "    print(\"yourname is FAIZA\")\n",
    "elif name == \"Jahanzaib\":\n",
    "    print (\"Your name is jahanzaib\")\n",
    "else:\n",
    "    print(\"your name in not Known\")"
   ]
  },
  {
   "cell_type": "code",
   "execution_count": null,
   "metadata": {},
   "outputs": [],
   "source": [
    "input(\"Enter Name\")"
   ]
  },
  {
   "cell_type": "code",
   "execution_count": null,
   "metadata": {},
   "outputs": [],
   "source": []
  }
 ],
 "metadata": {
  "kernelspec": {
   "display_name": "Python 3",
   "language": "python",
   "name": "python3"
  },
  "language_info": {
   "codemirror_mode": {
    "name": "ipython",
    "version": 3
   },
   "file_extension": ".py",
   "mimetype": "text/x-python",
   "name": "python",
   "nbconvert_exporter": "python",
   "pygments_lexer": "ipython3",
   "version": "3.6.5"
  }
 },
 "nbformat": 4,
 "nbformat_minor": 2
}
